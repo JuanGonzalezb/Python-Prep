{
 "cells": [
  {
   "cell_type": "code",
   "execution_count": 2,
   "metadata": {},
   "outputs": [
    {
     "name": "stdout",
     "output_type": "stream",
     "text": [
      "p\n",
      "a\n",
      "l\n",
      "a\n",
      "b\n",
      "r\n",
      "a\n"
     ]
    }
   ],
   "source": [
    "x='palabra'\n",
    "\n",
    "for i in x:\n",
    "    print(i)\n"
   ]
  },
  {
   "cell_type": "code",
   "execution_count": 3,
   "metadata": {},
   "outputs": [
    {
     "name": "stdout",
     "output_type": "stream",
     "text": [
      "15  es mayor a 0\n"
     ]
    }
   ],
   "source": [
    "# ## Flujos de Control\n",
    "\n",
    "# 1) Crear una variable que contenga un elemento del conjunto de números enteros y luego imprimir por pantalla si es mayor o menor a cero\n",
    "\n",
    "variable= 15\n",
    "if variable < 0:\n",
    "    print(variable,' Es menor a 0')\n",
    "elif variable > 0:\n",
    "    print(variable,' es mayor a 0')\n",
    "else: \n",
    "    print(variable,' es igual a 0')"
   ]
  },
  {
   "cell_type": "code",
   "execution_count": 4,
   "metadata": {},
   "outputs": [
    {
     "name": "stdout",
     "output_type": "stream",
     "text": [
      "las variables son de tipos de datos diferentes\n"
     ]
    }
   ],
   "source": [
    "# 2) Crear dos variables y un condicional que informe si son del mismo tipo de dato\n",
    "\n",
    "a = 5\n",
    "b = '5'\n",
    "if type(a)==type(b):\n",
    "    print('La variable a y la variable b son del mismo tipo de dato')\n",
    "else:\n",
    "    print('las variables son de tipos de datos diferentes')"
   ]
  },
  {
   "cell_type": "code",
   "execution_count": null,
   "metadata": {},
   "outputs": [],
   "source": [
    "# 3) Para los valores enteros del 1 al 20, imprimir por pantalla si es par o impar\n",
    "\n",
    "a=1\n",
    "for i in range (a,20):\n",
    "    if i%2==0:\n",
    "        print(a,' es un número par')\n",
    "    else:\n",
    "        print(a,' es un número impar')\n",
    "    a=a+1\n"
   ]
  },
  {
   "cell_type": "code",
   "execution_count": 6,
   "metadata": {},
   "outputs": [
    {
     "name": "stdout",
     "output_type": "stream",
     "text": [
      "0\n",
      "1\n",
      "8\n",
      "27\n",
      "64\n",
      "125\n"
     ]
    }
   ],
   "source": [
    "# 4) En un ciclo for mostrar para los valores entre 0 y 5 el resultado de elevarlo a la potencia igual a 3\n",
    "\n",
    "x=0 \n",
    "for i in range (x,5+1):\n",
    "   pot = i**3\n",
    "   print(pot)\n",
    "\n"
   ]
  },
  {
   "cell_type": "code",
   "execution_count": 7,
   "metadata": {},
   "outputs": [],
   "source": [
    "# 5) Crear una variable que contenga un número entero y realizar un ciclo for la misma cantidad de ciclos\n",
    "\n",
    "\n",
    "x=int(input(\"Ingrese la variable\"))\n",
    "\n",
    "for i in range(x):\n",
    "    print(x)"
   ]
  },
  {
   "cell_type": "code",
   "execution_count": null,
   "metadata": {},
   "outputs": [
    {
     "name": "stdout",
     "output_type": "stream",
     "text": [
      "40320\n"
     ]
    }
   ],
   "source": [
    "# 6) Utilizar un ciclo while para realizar el factoreo de un número guardado en una variable, sólo si la variable contiene un número entero mayor a 0\n",
    "\n",
    "y = int(input(\"ingrese un número mayor a cero\"))\n",
    "x = 1\n",
    "while  y > 0:\n",
    "    x = x*y\n",
    "    y = y-1\n",
    "print(x)\n"
   ]
  },
  {
   "cell_type": "code",
   "execution_count": null,
   "metadata": {},
   "outputs": [],
   "source": [
    "# 7) Crear un ciclo for dentro de un ciclo while\n",
    "\n",
    "x = int(input(\"Seleccione un número\"))\n",
    "\n",
    "while x//2 != 0:\n",
    "    for i in range (0,x):\n",
    "        print(i)\n",
    "    x = x-1\n"
   ]
  },
  {
   "cell_type": "code",
   "execution_count": null,
   "metadata": {},
   "outputs": [
    {
     "data": {
      "text/plain": [
       "0"
      ]
     },
     "execution_count": 26,
     "metadata": {},
     "output_type": "execute_result"
    }
   ],
   "source": [
    "1//2"
   ]
  },
  {
   "cell_type": "code",
   "execution_count": null,
   "metadata": {},
   "outputs": [],
   "source": [
    "# 8) Crear un ciclo while dentro de un ciclo for\n",
    "\n",
    "x = int(input(\"Seleccione un número\"))\n",
    "\n",
    "for i in range (0,x):\n",
    "    while x//2 != 0:\n",
    "        print(i)\n",
    "        x = x-1"
   ]
  },
  {
   "cell_type": "code",
   "execution_count": null,
   "metadata": {},
   "outputs": [],
   "source": [
    "# 9) Imprimir los números primos existentes entre 0 y 30\n",
    "\n",
    "x=1\n",
    "y=1000000\n",
    "for i in range (x,y):\n",
    "   \n",
    "    for i in range (x+1,y+1):\n",
    "        if (y%i==0)and(y!=i):\n",
    "            #print(y,i,y%i)\n",
    "            break\n",
    "        elif y==i:\n",
    "            print(i)\n",
    "        else:\n",
    "            continue\n",
    "\n",
    "    y=y-1\n",
    "    \n",
    "        \n"
   ]
  },
  {
   "cell_type": "code",
   "execution_count": 21,
   "metadata": {},
   "outputs": [
    {
     "name": "stdout",
     "output_type": "stream",
     "text": [
      "7\n",
      "5\n",
      "3\n",
      "2\n"
     ]
    }
   ],
   "source": [
    "# 10) ¿Se puede mejorar el proceso del punto 9? Utilizar las sentencias break y/ó continue para tal fin\n",
    "\n",
    "x=1\n",
    "y=10\n",
    "for i in range (x,y):\n",
    "   \n",
    "    for i in range (x+1,y+1):\n",
    "        if (y%i==0)and(y!=i):\n",
    "            #print(y,i,y%i)\n",
    "            break\n",
    "        elif y==i:\n",
    "            print(i)\n",
    "        else:\n",
    "            continue\n",
    "\n",
    "    y=y-1"
   ]
  },
  {
   "cell_type": "code",
   "execution_count": null,
   "metadata": {},
   "outputs": [],
   "source": [
    "# 11) En los puntos 9 y 10, se diseño un código que encuentra números primos y además se lo optimizó. ¿Es posible saber en qué medida se optimizó?\n",
    "\n",
    "#El numero de pasos disminuye"
   ]
  },
  {
   "cell_type": "code",
   "execution_count": null,
   "metadata": {},
   "outputs": [],
   "source": [
    "# 12) Si la cantidad de números que se evalúa es mayor a treinta, esa optimización crece?\n",
    "\n",
    "#El numero de pasos crece pero aún sigue optimizado."
   ]
  },
  {
   "cell_type": "code",
   "execution_count": null,
   "metadata": {},
   "outputs": [],
   "source": [
    "# 13) Aplicando continue, armar un ciclo while que solo imprima los valores divisibles por 12, dentro del rango de números de 100 a 300\n",
    "\n",
    "x = 100\n",
    "y = 300\n",
    "\n",
    "while y>=100:\n",
    "    if y%12==0:\n",
    "        print(y,y/12)\n",
    "    y=y-1\n"
   ]
  },
  {
   "cell_type": "code",
   "execution_count": null,
   "metadata": {},
   "outputs": [],
   "source": [
    "# 13) Aplicando continue, armar un ciclo while que solo imprima los valores divisibles por 12, dentro del rango de números de 100 a 300\n",
    "\n",
    "x = 100\n",
    "y = 300\n",
    "\n",
    "while y>=100:\n",
    "    if y%12!=0:\n",
    "        y=y-1\n",
    "        continue\n",
    "        \n",
    "    else:\n",
    "        print(y,y/12)\n",
    "    y=y-1"
   ]
  },
  {
   "cell_type": "code",
   "execution_count": null,
   "metadata": {},
   "outputs": [],
   "source": [
    "# 14) Utilizar la función **input()** que permite hacer ingresos por teclado, para encontrar números primos y dar la opción al usario de buscar el siguiente\n",
    "\n",
    "x = int(input(\"Ingrese un número\"))\n",
    "\n",
    "for i in range (1,x):\n",
    "    for i in range (2,x+1):\n",
    "        if (x%i==0) and (x==i):\n",
    "            print(x)\n",
    "        elif x%i==0:\n",
    "            break\n",
    "            \n",
    "    x=x-1\n"
   ]
  },
  {
   "cell_type": "code",
   "execution_count": 22,
   "metadata": {},
   "outputs": [
    {
     "name": "stdout",
     "output_type": "stream",
     "text": [
      "102\n"
     ]
    }
   ],
   "source": [
    "# 15) Crear un ciclo while que encuentre dentro del rango de 100 a 300 el primer número divisible por 3 y además múltiplo de 6\n",
    "\n",
    "x=100 \n",
    "y=300\n",
    "\n",
    "while x<=y:\n",
    "    if (x%3==0) and (x%6==0):\n",
    "        print(x)\n",
    "        break\n",
    "    x=x+1"
   ]
  }
 ],
 "metadata": {
  "kernelspec": {
   "display_name": "Python 3",
   "language": "python",
   "name": "python3"
  },
  "language_info": {
   "codemirror_mode": {
    "name": "ipython",
    "version": 3
   },
   "file_extension": ".py",
   "mimetype": "text/x-python",
   "name": "python",
   "nbconvert_exporter": "python",
   "pygments_lexer": "ipython3",
   "version": "3.11.4"
  },
  "orig_nbformat": 4
 },
 "nbformat": 4,
 "nbformat_minor": 2
}
